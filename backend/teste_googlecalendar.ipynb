{
 "cells": [
  {
   "cell_type": "code",
   "execution_count": 3,
   "id": "b52a0aeb",
   "metadata": {},
   "outputs": [
    {
     "name": "stdout",
     "output_type": "stream",
     "text": [
      "- Sua equipe tem 8 tarefas em aberto.\n",
      "- 5 tarefas foram finalizadas antes do prazo.\n",
      "- 3 tarefas estão atrasadas.\n"
     ]
    }
   ],
   "source": [
    "em_aberto = 8\n",
    "finalizadas_antes_do_prazo = 5\n",
    "atrasadas = 3\n",
    "insight = f\"- Sua equipe tem {em_aberto} tarefas em aberto.\\n\"\n",
    "insight += f\"- {finalizadas_antes_do_prazo} tarefas foram finalizadas antes do prazo.\\n\"\n",
    "insight += f\"- {atrasadas} tarefas estão atrasadas.\"\n",
    "print(insight)"
   ]
  },
  {
   "cell_type": "code",
   "execution_count": null,
   "id": "8ba40ca7",
   "metadata": {},
   "outputs": [],
   "source": []
  }
 ],
 "metadata": {
  "kernelspec": {
   "display_name": "Python 3",
   "language": "python",
   "name": "python3"
  },
  "language_info": {
   "codemirror_mode": {
    "name": "ipython",
    "version": 3
   },
   "file_extension": ".py",
   "mimetype": "text/x-python",
   "name": "python",
   "nbconvert_exporter": "python",
   "pygments_lexer": "ipython3",
   "version": "3.9.13"
  }
 },
 "nbformat": 4,
 "nbformat_minor": 5
}
