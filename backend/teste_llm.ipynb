{
 "cells": [
  {
   "cell_type": "code",
   "execution_count": null,
   "id": "014d9579",
   "metadata": {},
   "outputs": [],
   "source": [
    "import requests"
   ]
  },
  {
   "cell_type": "markdown",
   "id": "c671b996",
   "metadata": {},
   "source": [
    "# Usando o Ollama\n",
    "### Pré-requisitos\n",
    "* instalar ollama em: https://ollama.com/\n",
    "* no terminal, baixe o mistral (ou outra llm): ollama pull mistral\n",
    "* no terminal, rode o modelo: ollama run mistral\n",
    "* execute o código abaixo"
   ]
  },
  {
   "cell_type": "code",
   "execution_count": 38,
   "id": "7f34ffa8",
   "metadata": {},
   "outputs": [],
   "source": [
    "def pergunte_ao_llm_ollama(model_name = \"mistral\", tema= \"ir para a academia\"):\n",
    "    prompt = f\"Estou monitorando o habito: {tema}. Me dê 3 dicas curtas para melhorar minha frequência e resultados em {tema}.\"\n",
    "    data = {\"model\": model_name,\n",
    "            \"prompt\": prompt,\n",
    "            \"stream\": False}\n",
    "    response = requests.post(\"http://localhost:11434/api/generate\", json=data)\n",
    "    # Exibindo a resposta\n",
    "    return response.json()[\"response\"]"
   ]
  },
  {
   "cell_type": "code",
   "execution_count": 39,
   "id": "dbd072c4",
   "metadata": {},
   "outputs": [
    {
     "name": "stdout",
     "output_type": "stream",
     "text": [
      "1. Agende horários fixos diariamente na sua agenda, faça tarefas menores no tempo que o exercício seria, garantindo assim que você seja regular;\n",
      "\n",
      "2. Tente escolher atividades que goste e se sentir confortável em fazer, isso aumentará a sua motivação e engajamento;\n",
      "\n",
      "3. Conte com alguém, um amigo ou família membro, para que possa ir juntos ao exercício, isso te motivará a ser mais consistente. Além disso, torna-se ainda mais divertido!\n"
     ]
    }
   ],
   "source": [
    "resposta = pergunte_ao_llm_ollama()\n",
    "print(resposta)\n"
   ]
  },
  {
   "cell_type": "markdown",
   "id": "0e0e2fab",
   "metadata": {},
   "source": [
    "# Usando o Groq\n",
    "### Pré-requisitos\n",
    "* crie uma conta no groq: https://console.groq.com\n",
    "* clique em \"Create API key\"\n",
    "* copie sua chave para um arquivo dentro de ./backend chamado \"chave_groq.txt\"\n",
    "* execute o script abaixo\n",
    "* OBS: lembre de por o arquivo da sua chave no git ignore para não jogar sua chave para o repositorio no github\n"
   ]
  },
  {
   "cell_type": "code",
   "execution_count": null,
   "id": "a4a0ddda",
   "metadata": {},
   "outputs": [],
   "source": [
    "with open(\"chave_groq.txt\", \"r\") as f:\n",
    "    api_key = f.read().strip()\n",
    "api_key"
   ]
  },
  {
   "cell_type": "code",
   "execution_count": null,
   "id": "0d368ce3",
   "metadata": {},
   "outputs": [],
   "source": [
    "def pergunte_ao_llm_groq(model_name = \"llama-3.3-70b-versatile\", tema= \"ir para a academia\",key=api_key):\n",
    "        url = \"https://api.groq.com/openai/v1/chat/completions\"\n",
    "        headers = {\n",
    "        \"Authorization\": f\"Bearer {key}\",\n",
    "        \"Content-Type\": \"application/json\"\n",
    "        }\n",
    "        data = {\n",
    "        \"model\": model_name,\n",
    "        \"messages\": [{\"role\": \"user\", \"content\": f\"Estou monitorando o habito: {tema}. Me dê 3 dicas curtas para melhorar minha frequência e resultados em {tema}.\"}]\n",
    "        }\n",
    "        response = requests.post(url, headers=headers, json=data)\n",
    "        return response.json()['choices'][0]['message']['content']"
   ]
  },
  {
   "cell_type": "code",
   "execution_count": 41,
   "id": "ab3959de",
   "metadata": {},
   "outputs": [
    {
     "name": "stdout",
     "output_type": "stream",
     "text": [
      "Aqui estão 3 dicas curtas para melhorar sua frequência e resultados em ir para a academia:\n",
      "\n",
      "1. **Defina metas claras**: Estabeleça objetivos específicos, como ir à academia 3 vezes por semana, e monitore seu progresso. Isso ajudará a manter você motivado e focado.\n",
      "\n",
      "2. **Crie um horário fixo**: Escolha um horário específico para ir à academia e tente manter esse horário todos os dias. Isso ajudará a tornar a ida à academia um hábito e evitará que você perca a motivação.\n",
      "\n",
      "3. **Encontre um parceiro de treino**: Ter um parceiro de treino pode ser um grande motivador. Você pode se apoiar mutuamente, compartilhar dicas e experiências, e se sentir mais responsável por comparecer às sessões de treino.\n",
      "\n",
      "Lembre-se de que a consistência é a chave para alcançar seus objetivos em relação à frequência e resultados em ir à academia!\n"
     ]
    }
   ],
   "source": [
    "resposta = pergunte_ao_llm_groq()\n",
    "print(resposta)"
   ]
  }
 ],
 "metadata": {
  "kernelspec": {
   "display_name": "venv",
   "language": "python",
   "name": "python3"
  },
  "language_info": {
   "codemirror_mode": {
    "name": "ipython",
    "version": 3
   },
   "file_extension": ".py",
   "mimetype": "text/x-python",
   "name": "python",
   "nbconvert_exporter": "python",
   "pygments_lexer": "ipython3",
   "version": "3.9.13"
  }
 },
 "nbformat": 4,
 "nbformat_minor": 5
}
