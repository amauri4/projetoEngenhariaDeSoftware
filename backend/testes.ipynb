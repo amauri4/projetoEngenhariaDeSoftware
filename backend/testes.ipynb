{
 "cells": [
  {
   "cell_type": "code",
   "execution_count": 1,
   "metadata": {},
   "outputs": [
    {
     "name": "stdout",
     "output_type": "stream",
     "text": [
      "Collecting pandas\n",
      "  Using cached pandas-2.0.3-cp38-cp38-win_amd64.whl (10.8 MB)\n",
      "Collecting tzdata>=2022.1\n",
      "  Downloading tzdata-2025.2-py2.py3-none-any.whl (347 kB)\n",
      "Requirement already satisfied: python-dateutil>=2.8.2 in d:\\vsc_projects\\estudos\\ufrn\\projeto_engenharia_de_software\\projetoengenhariadesoftware\\backend\\venv\\lib\\site-packages (from pandas) (2.9.0.post0)\n",
      "Collecting pytz>=2020.1\n",
      "  Downloading pytz-2025.2-py2.py3-none-any.whl (509 kB)\n",
      "Collecting numpy>=1.20.3; python_version < \"3.10\"\n",
      "  Using cached numpy-1.24.4-cp38-cp38-win_amd64.whl (14.9 MB)\n",
      "Requirement already satisfied: six>=1.5 in d:\\vsc_projects\\estudos\\ufrn\\projeto_engenharia_de_software\\projetoengenhariadesoftware\\backend\\venv\\lib\\site-packages (from python-dateutil>=2.8.2->pandas) (1.17.0)\n",
      "Installing collected packages: tzdata, pytz, numpy, pandas\n",
      "Successfully installed numpy-1.24.4 pandas-2.0.3 pytz-2025.2 tzdata-2025.2\n"
     ]
    },
    {
     "name": "stderr",
     "output_type": "stream",
     "text": [
      "WARNING: You are using pip version 20.2.3; however, version 25.0.1 is available.\n",
      "You should consider upgrading via the 'd:\\vsc_projects\\estudos\\ufrn\\projeto_engenharia_de_software\\projetoengenhariadesoftware\\backend\\venv\\scripts\\python.exe -m pip install --upgrade pip' command.\n"
     ]
    },
    {
     "name": "stdout",
     "output_type": "stream",
     "text": [
      "Requirement already satisfied: numpy in d:\\vsc_projects\\estudos\\ufrn\\projeto_engenharia_de_software\\projetoengenhariadesoftware\\backend\\venv\\lib\\site-packages (1.24.4)\n"
     ]
    },
    {
     "name": "stderr",
     "output_type": "stream",
     "text": [
      "WARNING: You are using pip version 20.2.3; however, version 25.0.1 is available.\n",
      "You should consider upgrading via the 'd:\\vsc_projects\\estudos\\ufrn\\projeto_engenharia_de_software\\projetoengenhariadesoftware\\backend\\venv\\scripts\\python.exe -m pip install --upgrade pip' command.\n"
     ]
    },
    {
     "name": "stdout",
     "output_type": "stream",
     "text": [
      "Collecting matplotlib"
     ]
    },
    {
     "name": "stderr",
     "output_type": "stream",
     "text": [
      "WARNING: You are using pip version 20.2.3; however, version 25.0.1 is available.\n",
      "You should consider upgrading via the 'd:\\vsc_projects\\estudos\\ufrn\\projeto_engenharia_de_software\\projetoengenhariadesoftware\\backend\\venv\\scripts\\python.exe -m pip install --upgrade pip' command.\n"
     ]
    },
    {
     "name": "stdout",
     "output_type": "stream",
     "text": [
      "\n",
      "  Using cached matplotlib-3.7.5-cp38-cp38-win_amd64.whl (7.5 MB)\n",
      "Requirement already satisfied: packaging>=20.0 in d:\\vsc_projects\\estudos\\ufrn\\projeto_engenharia_de_software\\projetoengenhariadesoftware\\backend\\venv\\lib\\site-packages (from matplotlib) (24.2)\n",
      "Collecting kiwisolver>=1.0.1\n",
      "  Using cached kiwisolver-1.4.7-cp38-cp38-win_amd64.whl (55 kB)\n",
      "Collecting fonttools>=4.22.0\n",
      "  Downloading fonttools-4.57.0-cp38-cp38-win_amd64.whl (1.5 MB)\n",
      "Requirement already satisfied: python-dateutil>=2.7 in d:\\vsc_projects\\estudos\\ufrn\\projeto_engenharia_de_software\\projetoengenhariadesoftware\\backend\\venv\\lib\\site-packages (from matplotlib) (2.9.0.post0)\n",
      "Collecting pillow>=6.2.0\n",
      "  Using cached pillow-10.4.0-cp38-cp38-win_amd64.whl (2.6 MB)\n",
      "Collecting importlib-resources>=3.2.0; python_version < \"3.10\"\n",
      "  Using cached importlib_resources-6.4.5-py3-none-any.whl (36 kB)\n",
      "Requirement already satisfied: numpy<2,>=1.20 in d:\\vsc_projects\\estudos\\ufrn\\projeto_engenharia_de_software\\projetoengenhariadesoftware\\backend\\venv\\lib\\site-packages (from matplotlib) (1.24.4)\n",
      "Collecting cycler>=0.10\n",
      "  Using cached cycler-0.12.1-py3-none-any.whl (8.3 kB)\n",
      "Collecting pyparsing>=2.3.1\n",
      "  Using cached pyparsing-3.1.4-py3-none-any.whl (104 kB)\n",
      "Collecting contourpy>=1.0.1\n",
      "  Using cached contourpy-1.1.1-cp38-cp38-win_amd64.whl (477 kB)\n",
      "Requirement already satisfied: six>=1.5 in d:\\vsc_projects\\estudos\\ufrn\\projeto_engenharia_de_software\\projetoengenhariadesoftware\\backend\\venv\\lib\\site-packages (from python-dateutil>=2.7->matplotlib) (1.17.0)\n",
      "Requirement already satisfied: zipp>=3.1.0; python_version < \"3.10\" in d:\\vsc_projects\\estudos\\ufrn\\projeto_engenharia_de_software\\projetoengenhariadesoftware\\backend\\venv\\lib\\site-packages (from importlib-resources>=3.2.0; python_version < \"3.10\"->matplotlib) (3.20.2)\n",
      "Installing collected packages: kiwisolver, fonttools, pillow, importlib-resources, cycler, pyparsing, contourpy, matplotlib\n",
      "Successfully installed contourpy-1.1.1 cycler-0.12.1 fonttools-4.57.0 importlib-resources-6.4.5 kiwisolver-1.4.7 matplotlib-3.7.5 pillow-10.4.0 pyparsing-3.1.4\n",
      "Collecting sklearn\n",
      "  Downloading sklearn-0.0.post12.tar.gz (2.6 kB)\n"
     ]
    },
    {
     "name": "stderr",
     "output_type": "stream",
     "text": [
      "    ERROR: Command errored out with exit status 1:\n",
      "     command: 'd:\\vsc_projects\\estudos\\ufrn\\projeto_engenharia_de_software\\projetoengenhariadesoftware\\backend\\venv\\scripts\\python.exe' -c 'import sys, setuptools, tokenize; sys.argv[0] = '\"'\"'C:\\\\Users\\\\arthu\\\\AppData\\\\Local\\\\Temp\\\\pip-install-cf5b_7_r\\\\sklearn\\\\setup.py'\"'\"'; __file__='\"'\"'C:\\\\Users\\\\arthu\\\\AppData\\\\Local\\\\Temp\\\\pip-install-cf5b_7_r\\\\sklearn\\\\setup.py'\"'\"';f=getattr(tokenize, '\"'\"'open'\"'\"', open)(__file__);code=f.read().replace('\"'\"'\\r\\n'\"'\"', '\"'\"'\\n'\"'\"');f.close();exec(compile(code, __file__, '\"'\"'exec'\"'\"'))' egg_info --egg-base 'C:\\Users\\arthu\\AppData\\Local\\Temp\\pip-pip-egg-info-q5nbboot'\n",
      "         cwd: C:\\Users\\arthu\\AppData\\Local\\Temp\\pip-install-cf5b_7_r\\sklearn\\\n",
      "    Complete output (15 lines):\n",
      "    The 'sklearn' PyPI package is deprecated, use 'scikit-learn'\n",
      "    rather than 'sklearn' for pip commands.\n",
      "    \n",
      "    Here is how to fix this error in the main use cases:\n",
      "    - use 'pip install scikit-learn' rather than 'pip install sklearn'\n",
      "    - replace 'sklearn' by 'scikit-learn' in your pip requirements files\n",
      "      (requirements.txt, setup.py, setup.cfg, Pipfile, etc ...)\n",
      "    - if the 'sklearn' package is used by one of your dependencies,\n",
      "      it would be great if you take some time to track which package uses\n",
      "      'sklearn' instead of 'scikit-learn' and report it to their issue tracker\n",
      "    - as a last resort, set the environment variable\n",
      "      SKLEARN_ALLOW_DEPRECATED_SKLEARN_PACKAGE_INSTALL=True to avoid this error\n",
      "    \n",
      "    More information is available at\n",
      "    https://github.com/scikit-learn/sklearn-pypi-package\n",
      "    ----------------------------------------\n",
      "ERROR: Command errored out with exit status 1: python setup.py egg_info Check the logs for full command output.\n",
      "WARNING: You are using pip version 20.2.3; however, version 25.0.1 is available.\n",
      "You should consider upgrading via the 'd:\\vsc_projects\\estudos\\ufrn\\projeto_engenharia_de_software\\projetoengenhariadesoftware\\backend\\venv\\scripts\\python.exe -m pip install --upgrade pip' command.\n"
     ]
    },
    {
     "name": "stdout",
     "output_type": "stream",
     "text": [
      "Collecting seaborn\n",
      "  Using cached seaborn-0.13.2-py3-none-any.whl (294 kB)\n",
      "Requirement already satisfied: matplotlib!=3.6.1,>=3.4 in d:\\vsc_projects\\estudos\\ufrn\\projeto_engenharia_de_software\\projetoengenhariadesoftware\\backend\\venv\\lib\\site-packages (from seaborn) (3.7.5)\n",
      "Requirement already satisfied: numpy!=1.24.0,>=1.20 in d:\\vsc_projects\\estudos\\ufrn\\projeto_engenharia_de_software\\projetoengenhariadesoftware\\backend\\venv\\lib\\site-packages (from seaborn) (1.24.4)\n",
      "Requirement already satisfied: pandas>=1.2 in d:\\vsc_projects\\estudos\\ufrn\\projeto_engenharia_de_software\\projetoengenhariadesoftware\\backend\\venv\\lib\\site-packages (from seaborn) (2.0.3)\n",
      "Requirement already satisfied: packaging>=20.0 in d:\\vsc_projects\\estudos\\ufrn\\projeto_engenharia_de_software\\projetoengenhariadesoftware\\backend\\venv\\lib\\site-packages (from matplotlib!=3.6.1,>=3.4->seaborn) (24.2)\n",
      "Requirement already satisfied: contourpy>=1.0.1 in d:\\vsc_projects\\estudos\\ufrn\\projeto_engenharia_de_software\\projetoengenhariadesoftware\\backend\\venv\\lib\\site-packages (from matplotlib!=3.6.1,>=3.4->seaborn) (1.1.1)\n",
      "Requirement already satisfied: fonttools>=4.22.0 in d:\\vsc_projects\\estudos\\ufrn\\projeto_engenharia_de_software\\projetoengenhariadesoftware\\backend\\venv\\lib\\site-packages (from matplotlib!=3.6.1,>=3.4->seaborn) (4.57.0)\n",
      "Requirement already satisfied: pyparsing>=2.3.1 in d:\\vsc_projects\\estudos\\ufrn\\projeto_engenharia_de_software\\projetoengenhariadesoftware\\backend\\venv\\lib\\site-packages (from matplotlib!=3.6.1,>=3.4->seaborn) (3.1.4)\n",
      "Requirement already satisfied: python-dateutil>=2.7 in d:\\vsc_projects\\estudos\\ufrn\\projeto_engenharia_de_software\\projetoengenhariadesoftware\\backend\\venv\\lib\\site-packages (from matplotlib!=3.6.1,>=3.4->seaborn) (2.9.0.post0)\n",
      "Requirement already satisfied: importlib-resources>=3.2.0; python_version < \"3.10\" in d:\\vsc_projects\\estudos\\ufrn\\projeto_engenharia_de_software\\projetoengenhariadesoftware\\backend\\venv\\lib\\site-packages (from matplotlib!=3.6.1,>=3.4->seaborn) (6.4.5)\n",
      "Requirement already satisfied: kiwisolver>=1.0.1 in d:\\vsc_projects\\estudos\\ufrn\\projeto_engenharia_de_software\\projetoengenhariadesoftware\\backend\\venv\\lib\\site-packages (from matplotlib!=3.6.1,>=3.4->seaborn) (1.4.7)\n",
      "Requirement already satisfied: cycler>=0.10 in d:\\vsc_projects\\estudos\\ufrn\\projeto_engenharia_de_software\\projetoengenhariadesoftware\\backend\\venv\\lib\\site-packages (from matplotlib!=3.6.1,>=3.4->seaborn) (0.12.1)\n",
      "Requirement already satisfied: pillow>=6.2.0 in d:\\vsc_projects\\estudos\\ufrn\\projeto_engenharia_de_software\\projetoengenhariadesoftware\\backend\\venv\\lib\\site-packages (from matplotlib!=3.6.1,>=3.4->seaborn) (10.4.0)\n",
      "Requirement already satisfied: tzdata>=2022.1 in d:\\vsc_projects\\estudos\\ufrn\\projeto_engenharia_de_software\\projetoengenhariadesoftware\\backend\\venv\\lib\\site-packages (from pandas>=1.2->seaborn) (2025.2)\n",
      "Requirement already satisfied: pytz>=2020.1 in d:\\vsc_projects\\estudos\\ufrn\\projeto_engenharia_de_software\\projetoengenhariadesoftware\\backend\\venv\\lib\\site-packages (from pandas>=1.2->seaborn) (2025.2)\n",
      "Requirement already satisfied: six>=1.5 in d:\\vsc_projects\\estudos\\ufrn\\projeto_engenharia_de_software\\projetoengenhariadesoftware\\backend\\venv\\lib\\site-packages (from python-dateutil>=2.7->matplotlib!=3.6.1,>=3.4->seaborn) (1.17.0)\n",
      "Requirement already satisfied: zipp>=3.1.0; python_version < \"3.10\" in d:\\vsc_projects\\estudos\\ufrn\\projeto_engenharia_de_software\\projetoengenhariadesoftware\\backend\\venv\\lib\\site-packages (from importlib-resources>=3.2.0; python_version < \"3.10\"->matplotlib!=3.6.1,>=3.4->seaborn) (3.20.2)\n",
      "Installing collected packages: seaborn\n",
      "Successfully installed seaborn-0.13.2\n"
     ]
    },
    {
     "name": "stderr",
     "output_type": "stream",
     "text": [
      "WARNING: You are using pip version 20.2.3; however, version 25.0.1 is available.\n",
      "You should consider upgrading via the 'd:\\vsc_projects\\estudos\\ufrn\\projeto_engenharia_de_software\\projetoengenhariadesoftware\\backend\\venv\\scripts\\python.exe -m pip install --upgrade pip' command.\n"
     ]
    },
    {
     "name": "stdout",
     "output_type": "stream",
     "text": [
      "Collecting psycopg2\n",
      "  Downloading psycopg2-2.9.10.tar.gz (385 kB)\n",
      "Using legacy 'setup.py install' for psycopg2, since package 'wheel' is not installed.\n",
      "Installing collected packages: psycopg2\n",
      "    Running setup.py install for psycopg2: started\n",
      "    Running setup.py install for psycopg2: finished with status 'done'\n",
      "Successfully installed psycopg2-2.9.10\n"
     ]
    },
    {
     "name": "stderr",
     "output_type": "stream",
     "text": [
      "WARNING: You are using pip version 20.2.3; however, version 25.0.1 is available.\n",
      "You should consider upgrading via the 'd:\\vsc_projects\\estudos\\ufrn\\projeto_engenharia_de_software\\projetoengenhariadesoftware\\backend\\venv\\scripts\\python.exe -m pip install --upgrade pip' command.\n"
     ]
    }
   ],
   "source": [
    "!pip install pandas\n",
    "!pip install numpy\n",
    "!pip install matplotlib\n",
    "!pip install sklearn\n",
    "!pip install seaborn\n",
    "!pip install psycopg2"
   ]
  },
  {
   "cell_type": "code",
   "execution_count": 2,
   "metadata": {},
   "outputs": [],
   "source": [
    "!pip freeze > requiriments.txt"
   ]
  },
  {
   "cell_type": "code",
   "execution_count": 6,
   "metadata": {},
   "outputs": [],
   "source": [
    "from app.database.session import get_db \n",
    "from app.repositories.Aplicacao2.GerenteRepository import GerenteRepository\n",
    "from app.repositories.Aplicacao2.FuncionarioRepository import FuncionarioRepository\n",
    "from app.repositories.Aplicacao2.TarefaRepository import TarefaRepository\n",
    "from sqlalchemy import inspect\n",
    "\n",
    "\n",
    "db = get_db()\n",
    "gerente_repository = GerenteRepository(db)\n",
    "funcionario_repository = FuncionarioRepository(db)\n",
    "tarefa_repository = TarefaRepository(db)"
   ]
  },
  {
   "cell_type": "code",
   "execution_count": null,
   "metadata": {},
   "outputs": [
    {
     "name": "stdout",
     "output_type": "stream",
     "text": [
      "['atores', 'categorias_habitos', 'dias_habito_mes', 'dias_habito_semana', 'habitos_base', 'historico_chat', 'instancias_de_habitos', 'itens_rastreaveis', 'registros_ocorrencias', 'usuarios_pessoais']\n"
     ]
    }
   ],
   "source": [
    "with db as session:\n",
    "\tengine = session.get_bind()\n",
    "\tinspector = inspect(engine)\n",
    "\tnomes_tabelas = inspector.get_table_names()\n",
    "\tprint(nomes_tabelas)"
   ]
  },
  {
   "cell_type": "code",
   "execution_count": 26,
   "metadata": {},
   "outputs": [
    {
     "name": "stdout",
     "output_type": "stream",
     "text": [
      "['id', 'data', 'concluido', 'item_id']\n",
      "(1, '2025-06-30', 1, 1)\n",
      "(2, '2025-07-02', 1, 1)\n",
      "(3, '2025-07-01', 1, 1)\n",
      "(4, '2025-07-10', 0, 1)\n",
      "(5, '2025-07-09', 0, 1)\n",
      "(6, '2025-07-08', 1, 1)\n",
      "(7, '2025-07-03', 1, 1)\n",
      "(8, '2025-08-01', 0, 1)\n",
      "(9, '2025-08-02', 0, 1)\n",
      "(10, '2025-08-03', 0, 1)\n",
      "(11, '2025-08-04', 0, 1)\n",
      "(12, '2025-08-05', 0, 1)\n",
      "(13, '2025-08-06', 0, 1)\n",
      "(14, '2025-08-07', 0, 1)\n",
      "(15, '2025-08-08', 0, 1)\n",
      "(16, '2025-08-09', 1, 1)\n",
      "(17, '2025-09-03', 1, 1)\n",
      "(18, '2025-12-20', 1, 1)\n",
      "(19, '2025-06-30', 0, 5)\n",
      "(20, '2025-07-01', 1, 5)\n",
      "(21, '2025-07-01', 1, 6)\n",
      "(22, '2025-07-02', 1, 5)\n",
      "(23, '2025-07-02', 1, 6)\n",
      "(24, '2025-07-03', 1, 5)\n",
      "(25, '2025-07-03', 1, 6)\n",
      "(26, '2025-07-04', 1, 1)\n",
      "(27, '2025-07-04', 1, 5)\n",
      "(28, '2025-07-04', 1, 6)\n"
     ]
    }
   ],
   "source": [
    "from sqlalchemy import text\n",
    "col_name = \"registros_ocorrencias\"\n",
    "colunas_atores = inspector.get_columns(col_name)\n",
    "nomes_colunas_atores = [col['name'] for col in colunas_atores]\n",
    "print(nomes_colunas_atores)\n",
    "result = session.execute(text(f\"SELECT * FROM {col_name}\"))\n",
    "atores = result.fetchall()\n",
    "for ator in atores:\n",
    "    print(ator)\n"
   ]
  },
  {
   "cell_type": "code",
   "execution_count": null,
   "metadata": {},
   "outputs": [
    {
     "name": "stdout",
     "output_type": "stream",
     "text": [
      "Erro ao criar gerente: Erro ao criar gerente.\n"
     ]
    }
   ],
   "source": [
    "gerente_repository = GerenteRepository(session)\n",
    "gerente_repository.criar_gerente(\"Chefe\", \"chefe@gmail.com\", \"12345678\")"
   ]
  },
  {
   "cell_type": "code",
   "execution_count": 2,
   "metadata": {},
   "outputs": [
    {
     "ename": "AttributeError",
     "evalue": "'_GeneratorContextManager' object has no attribute 'get_bind'",
     "output_type": "error",
     "traceback": [
      "\u001b[1;31m---------------------------------------------------------------------------\u001b[0m",
      "\u001b[1;31mAttributeError\u001b[0m                            Traceback (most recent call last)",
      "Cell \u001b[1;32mIn[2], line 2\u001b[0m\n\u001b[0;32m      1\u001b[0m \u001b[38;5;28;01mfrom\u001b[39;00m\u001b[38;5;250m \u001b[39m\u001b[38;5;21;01msqlalchemy\u001b[39;00m\u001b[38;5;250m \u001b[39m\u001b[38;5;28;01mimport\u001b[39;00m inspect\n\u001b[1;32m----> 2\u001b[0m engine \u001b[38;5;241m=\u001b[39m \u001b[43mdb\u001b[49m\u001b[38;5;241;43m.\u001b[39;49m\u001b[43mget_bind\u001b[49m()\n\u001b[0;32m      3\u001b[0m \u001b[38;5;66;03m# Usa o inspector com o engine\u001b[39;00m\n\u001b[0;32m      4\u001b[0m insp \u001b[38;5;241m=\u001b[39m inspect(engine)\n",
      "\u001b[1;31mAttributeError\u001b[0m: '_GeneratorContextManager' object has no attribute 'get_bind'"
     ]
    }
   ],
   "source": [
    "from sqlalchemy import inspect\n",
    "engine = db.get_bind()\n",
    "# Usa o inspector com o engine\n",
    "insp = inspect(engine)\n",
    "# Lista as tabelas\n",
    "tabelas = insp.get_table_names()\n",
    "print(tabelas)"
   ]
  },
  {
   "cell_type": "code",
   "execution_count": null,
   "metadata": {},
   "outputs": [],
   "source": []
  }
 ],
 "metadata": {
  "kernelspec": {
   "display_name": "Python 3",
   "language": "python",
   "name": "python3"
  },
  "language_info": {
   "codemirror_mode": {
    "name": "ipython",
    "version": 3
   },
   "file_extension": ".py",
   "mimetype": "text/x-python",
   "name": "python",
   "nbconvert_exporter": "python",
   "pygments_lexer": "ipython3",
   "version": "3.9.13"
  }
 },
 "nbformat": 4,
 "nbformat_minor": 2
}
